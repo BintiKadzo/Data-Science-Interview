{
 "cells": [
  {
   "cell_type": "code",
   "execution_count": null,
   "id": "7ee3636f-0b1e-405c-b466-982132a323e7",
   "metadata": {},
   "outputs": [],
   "source": [
    "# example of evaluating a knn model on the diabetes classification dataset\n",
    "from pandas import read_csv\n",
    "from sklearn.model_selection import train_test_split\n",
    "from sklearn.metrics import accuracy_score"
   ]
  }
 ],
 "metadata": {
  "kernelspec": {
   "display_name": "Python 3 (ipykernel)",
   "language": "python",
   "name": "python3"
  },
  "language_info": {
   "codemirror_mode": {
    "name": "ipython",
    "version": 3
   },
   "file_extension": ".py",
   "mimetype": "text/x-python",
   "name": "python",
   "nbconvert_exporter": "python",
   "pygments_lexer": "ipython3",
   "version": "3.9.7"
  }
 },
 "nbformat": 4,
 "nbformat_minor": 5
}
